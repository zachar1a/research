{
 "cells": [
  {
   "cell_type": "code",
   "execution_count": 1,
   "id": "4d004786",
   "metadata": {},
   "outputs": [],
   "source": [
    "import pandas as pd\n",
    "import numpy as np\n",
    "import matplotlib.pyplot as plt\n",
    "import seaborn as sns\n",
    "from sklearn.linear_model import LinearRegression, LogisticRegression\n",
    "from sklearn.model_selection import KFold, ShuffleSplit, cross_val_score\n",
    "from sklearn import svm, tree, metrics\n",
    "from sklearn.ensemble import RandomForestClassifier\n",
    "from sklearn.tree import DecisionTreeClassifier\n",
    "from sklearn.preprocessing import StandardScaler \n",
    "from sklearn.pipeline import make_pipeline\n",
    "import scikitplot as skplt\n",
    "\n",
    "\n",
    "\n",
    "\n",
    "# Loading in saved and formatted data sets\n",
    "participants_americas = pd.read_csv('participants/participants_americas.csv')\n",
    "participants_europe = pd.read_csv('participants/participants_europe.csv')\n",
    "participants_asia = pd.read_csv('participants/participants_asia.csv')\n",
    "\n",
    "# countries = ['KR','EU','NA','BR','TR','OC','JP','LA','RU']\n",
    "\n",
    "# The country col has values 1-9 which are taken from the index\n",
    "# of this array + 1. e.g Korea country code is 1, Europe is 2\n",
    "# and North America is 3\n",
    "\n",
    "pangea = pd.read_csv('participants/pangea.csv')\n",
    "pangea = pangea.drop(columns=['riotIdName','riotIdTagline','profileIcon','puuid','participantId',\n",
    "                              'championTransform','summonerId','summonerName','summonerLevel',\n",
    "                              'perks.styles','teamPosition','individualPosition'])\n",
    "pangea.fillna(0)\n",
    "pangea =pangea[~pangea.isin([np.nan,np.inf, -np.inf]).any(1)]\n",
    "\n",
    "# Dividing the roles into their respective vars\n",
    "pan_top     = pangea[pangea['lane'] == 'TOP'].reset_index()\n",
    "pan_jungle  = pangea[pangea['lane'] == 'JUNGLE'].reset_index()\n",
    "pan_middle  = pangea[pangea['lane'] == 'MIDDLE'].reset_index()\n",
    "pan_support = pangea[pangea['lane'] == 'BOTTOM']\n",
    "pan_support = pan_support[pan_support['kills'] <= 4].reset_index()\n",
    "pan_carry   = pangea[pangea['lane'] == 'BOTTOM']\n",
    "pan_carry   = pan_carry[pan_carry['kills'] > 4].reset_index()\n",
    "pan_randoms = pangea[pangea['lane'] == 'NONE'].reset_index()"
   ]
  },
  {
   "cell_type": "code",
   "execution_count": 13,
   "id": "5e19bbe1",
   "metadata": {},
   "outputs": [],
   "source": [
    "from sklearn.model_selection import train_test_split as tts\n",
    "from sklearn.preprocessing import StandardScaler\n",
    "\n",
    "#X = pan_player_damage.drop(columns=['win'],axis=1).values\n",
    "#y = pan_player_damage['win'].values\n",
    "#X_train, X_test, y_train,y_test = tts(X,y,shuffle=True)\n",
    "\n",
    "topX = pan_top.drop(columns=['championName','lane','role','damageDealtToBuildings'],axis=1).values\n",
    "topy = pan_top['damageDealtToBuildings'].values\n",
    "topX_train,topX_test, topy_train, topy_test = tts(topX, topy, shuffle=True)\n",
    "\n",
    "jungX = pan_jungle.drop(columns=['win','championName','lane','role'],axis=1).values\n",
    "jungy = pan_jungle['win'].values\n",
    "jungX_train,jungX_test, jungy_train,jungy_test = tts(jungX,jungy, shuffle=True)\n",
    "\n",
    "midX = pan_middle.drop(columns=['win','championName','lane','role'],axis=1).values\n",
    "midy = pan_middle['win'].values\n",
    "midX_train,midX_test, midy_train,midy_test = tts(midX, midy, shuffle=True)\n",
    "\n",
    "supX = pan_support.drop(columns=['win','championName','lane','role'],axis=1).values\n",
    "supy = pan_support['win'].values\n",
    "supX_train,supX_test, supy_train,supy_test = tts(supX, supy, shuffle=True)\n",
    "\n",
    "adcX = pan_carry.drop(columns=['win','championName','lane','role'],axis=1).values\n",
    "adcy = pan_carry['win'].values\n",
    "adcX_train, adcX_test, adcy_train,adcy_test = tts(adcX,adcy, shuffle=True)\n",
    "\n",
    "rdmX = pan_randoms.drop(columns=['win','championName','lane','role'],axis=1).values\n",
    "rdmy = pan_randoms['win'].values\n",
    "rdmX_train, rdmX_test, rdmy_train,rdmy_test = tts(rdmX,rdmy, shuffle=True)\n",
    "\n"
   ]
  },
  {
   "cell_type": "code",
   "execution_count": 14,
   "id": "8cfd7536",
   "metadata": {},
   "outputs": [
    {
     "data": {
      "text/plain": [
       "1.0"
      ]
     },
     "execution_count": 14,
     "metadata": {},
     "output_type": "execute_result"
    }
   ],
   "source": [
    "lr = LinearRegression()\n",
    "\n",
    "lr.fit(topX_train,topy_train)\n",
    "lr.score(topX_test,topy_test)"
   ]
  },
  {
   "cell_type": "code",
   "execution_count": 17,
   "id": "8d3d1fe8",
   "metadata": {},
   "outputs": [
    {
     "data": {
      "text/plain": [
       "array([[0, 0, 0, ..., 5002, 5007, 1],\n",
       "       [5, 5, 5, ..., 5008, 5005, 1],\n",
       "       [10, 10, 10, ..., 5002, 5007, 1],\n",
       "       ...,\n",
       "       [181372, 51642, 51642, ..., 5008, 5005, 3],\n",
       "       [181377, 51647, 51647, ..., 5008, 5005, 3],\n",
       "       [181385, 51655, 51655, ..., 5002, 5005, 3]], dtype=object)"
      ]
     },
     "execution_count": 17,
     "metadata": {},
     "output_type": "execute_result"
    }
   ],
   "source": [
    "topX"
   ]
  },
  {
   "cell_type": "code",
   "execution_count": null,
   "id": "b106204a",
   "metadata": {},
   "outputs": [],
   "source": []
  }
 ],
 "metadata": {
  "kernelspec": {
   "display_name": "Python 3",
   "language": "python",
   "name": "python3"
  },
  "language_info": {
   "codemirror_mode": {
    "name": "ipython",
    "version": 3
   },
   "file_extension": ".py",
   "mimetype": "text/x-python",
   "name": "python",
   "nbconvert_exporter": "python",
   "pygments_lexer": "ipython3",
   "version": "3.9.1"
  }
 },
 "nbformat": 4,
 "nbformat_minor": 5
}
