version https://git-lfs.github.com/spec/v1
oid sha256:8a610bc399fedda9039c86d469fd5293a85073c15a7d9681c014dc8c207aa0de
size 490870
